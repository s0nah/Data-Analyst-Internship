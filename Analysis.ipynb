{
 "cells": [
  {
   "cell_type": "code",
   "execution_count": 2,
   "id": "bd4f6aec",
   "metadata": {},
   "outputs": [],
   "source": [
    "import pandas as pd\n",
    "from datetime import datetime, timedelta"
   ]
  },
  {
   "cell_type": "code",
   "execution_count": 6,
   "id": "fb6d36b4",
   "metadata": {},
   "outputs": [],
   "source": [
    "initial_data = pd.read_csv('input.csv')\n",
    "initial_df = pd.DataFrame(initial_data)"
   ]
  },
  {
   "cell_type": "code",
   "execution_count": 9,
   "id": "7f9eb12e",
   "metadata": {},
   "outputs": [],
   "source": [
    "# function to extract compensation and last pay raise date\n",
    "def extract_compensation(row):\n",
    "    for col in ['Compensation 2', 'Compensation 1', 'Compensation']:\n",
    "        if row[col] != '-':\n",
    "            return row[col]\n",
    "\n",
    "def extract_last_pay_raise_date(row):\n",
    "    for col in ['Compensation 2 date', 'Compensation 1 Date', 'Date of Joining']:\n",
    "        if row[col] != '-':\n",
    "            return row[col]"
   ]
  },
  {
   "cell_type": "code",
   "execution_count": 10,
   "id": "3953b287",
   "metadata": {},
   "outputs": [],
   "source": [
    "historical_analysis_df = initial_df.copy()\n",
    "historical_analysis_df['Last Compensation'] = historical_analysis_df.apply(extract_compensation, axis=1)\n",
    "historical_analysis_df['Last Pay Raise Date'] = historical_analysis_df.apply(extract_last_pay_raise_date, axis=1)\n"
   ]
  },
  {
   "cell_type": "code",
   "execution_count": 11,
   "id": "14842d22",
   "metadata": {},
   "outputs": [],
   "source": [
    "historical_analysis_df['Variable Pay'] = ''\n",
    "historical_analysis_df['Tenure in Org'] = ''\n",
    "historical_analysis_df['Performance Rating'] = historical_analysis_df['Review 2']\n",
    "historical_analysis_df['Engagement Score'] = historical_analysis_df['Engagement 2']\n",
    "historical_analysis_df['Effective Date'] = historical_analysis_df['Date of Joining']\n",
    "historical_analysis_df['End Date'] = historical_analysis_df.groupby('Employee Code')['Effective Date'].shift(-1) - pd.Timedelta(days=1)\n",
    "historical_analysis_df.loc[historical_analysis_df['End Date'].isnull(), 'End Date'] = '2100-01-01'"
   ]
  },
  {
   "cell_type": "code",
   "execution_count": 14,
   "id": "9690a059",
   "metadata": {},
   "outputs": [],
   "source": [
    "historical_analysis_df.drop(columns=['Date of Joining', 'Date of Exit', 'Compensation 1', 'Compensation 1 date', \n",
    "                                     'Compensation 2', 'Compensation 2 date', 'Review 1', 'Review 1 date', 'Review 2', \n",
    "                                     'Review 2 date', 'Engagement 1', 'Engagement 1 date', 'Engagement 2', 'Engagement 2 date'], \n",
    "                            inplace=True)"
   ]
  },
  {
   "cell_type": "code",
   "execution_count": 15,
   "id": "570bbdaa",
   "metadata": {},
   "outputs": [],
   "source": [
    "historical_analysis_df = historical_analysis_df.reindex(historical_analysis_df.index.repeat(3))\n",
    "historical_analysis_df.reset_index(drop=True, inplace=True)"
   ]
  },
  {
   "cell_type": "code",
   "execution_count": 16,
   "id": "7e2a8f57",
   "metadata": {},
   "outputs": [],
   "source": [
    "historical_analysis_df['Manager Employee Code'] = historical_analysis_df['Manager Employee Code'].apply(lambda x: x if x != '-' else 1)"
   ]
  },
  {
   "cell_type": "code",
   "execution_count": 17,
   "id": "ba4c122b",
   "metadata": {},
   "outputs": [
    {
     "name": "stdout",
     "output_type": "stream",
     "text": [
      "   Employee Code  Manager Employee Code  Compensation  Last Compensation  \\\n",
      "0              1                    NaN         20000                NaN   \n",
      "1              1                    NaN         20000                NaN   \n",
      "2              1                    NaN         20000                NaN   \n",
      "3              2                    1.0         20000            20000.0   \n",
      "4              2                    1.0         20000            20000.0   \n",
      "5              2                    1.0         20000            20000.0   \n",
      "6              3                    1.0         20000            20000.0   \n",
      "7              3                    1.0         20000            20000.0   \n",
      "8              3                    1.0         20000            20000.0   \n",
      "\n",
      "  Last Pay Raise Date Variable Pay Tenure in Org  Performance Rating  \\\n",
      "0                 NaN                                            NaN   \n",
      "1                 NaN                                            NaN   \n",
      "2                 NaN                                            NaN   \n",
      "3          2023-01-01                                            9.5   \n",
      "4          2023-01-01                                            9.5   \n",
      "5          2023-01-01                                            9.5   \n",
      "6          2023-01-01                                            9.5   \n",
      "7          2023-01-01                                            9.5   \n",
      "8          2023-01-01                                            9.5   \n",
      "\n",
      "   Engagement Score Effective Date   End Date  \n",
      "0               NaN     2021-01-01 2100-01-01  \n",
      "1               NaN     2021-01-01 2100-01-01  \n",
      "2               NaN     2021-01-01 2100-01-01  \n",
      "3               5.0     2021-01-01 2100-01-01  \n",
      "4               5.0     2021-01-01 2100-01-01  \n",
      "5               5.0     2021-01-01 2100-01-01  \n",
      "6               5.0     2021-01-01 2100-01-01  \n",
      "7               5.0     2021-01-01 2100-01-01  \n",
      "8               5.0     2021-01-01 2100-01-01  \n"
     ]
    }
   ],
   "source": [
    "print(historical_analysis_df)\n"
   ]
  },
  {
   "cell_type": "code",
   "execution_count": 19,
   "id": "9d7dcb6a",
   "metadata": {},
   "outputs": [],
   "source": [
    "historical_analysis_df.to_csv(\"historical_analysis_df.csv\", index=False)"
   ]
  },
  {
   "cell_type": "code",
   "execution_count": null,
   "id": "4b7c123a",
   "metadata": {},
   "outputs": [],
   "source": []
  }
 ],
 "metadata": {
  "kernelspec": {
   "display_name": "Python 3 (ipykernel)",
   "language": "python",
   "name": "python3"
  },
  "language_info": {
   "codemirror_mode": {
    "name": "ipython",
    "version": 3
   },
   "file_extension": ".py",
   "mimetype": "text/x-python",
   "name": "python",
   "nbconvert_exporter": "python",
   "pygments_lexer": "ipython3",
   "version": "3.9.17"
  }
 },
 "nbformat": 4,
 "nbformat_minor": 5
}
